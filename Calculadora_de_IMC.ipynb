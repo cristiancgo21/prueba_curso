{
  "nbformat": 4,
  "nbformat_minor": 0,
  "metadata": {
    "colab": {
      "provenance": [],
      "authorship_tag": "ABX9TyN6h/4FsRdh3NN7Qb2++edB",
      "include_colab_link": true
    },
    "kernelspec": {
      "name": "python3",
      "display_name": "Python 3"
    },
    "language_info": {
      "name": "python"
    }
  },
  "cells": [
    {
      "cell_type": "markdown",
      "metadata": {
        "id": "view-in-github",
        "colab_type": "text"
      },
      "source": [
        "<a href=\"https://colab.research.google.com/github/cristiancgo21/prueba_curso/blob/main/Calculadora_de_IMC.ipynb\" target=\"_parent\"><img src=\"https://colab.research.google.com/assets/colab-badge.svg\" alt=\"Open In Colab\"/></a>"
      ]
    },
    {
      "cell_type": "code",
      "execution_count": null,
      "metadata": {
        "id": "tDV4-9_t6vx6",
        "colab": {
          "base_uri": "https://localhost:8080/"
        },
        "outputId": "93339c43-f63e-431f-b2c1-227e17f0c2f3"
      },
      "outputs": [
        {
          "output_type": "stream",
          "name": "stdout",
          "text": [
            "¿Cuál es tu nombre? Cristian\n",
            "¿Qué edad tienes? 18\n",
            "¿Cuál es tu peso en kilogramos? 60\n",
            "¿Cuál es tu altura en metros? 1.66\n",
            "Hola Cristian, tienes 18 años.\n",
            "Tu IMC es: 21.77\n",
            "Clasificación: Normal\n"
          ]
        }
      ],
      "source": [
        "nombre = input(\"¿Cuál es tu nombre? \")\n",
        "edad = int(input(\"¿Qué edad tienes? \"))\n",
        "peso = float(input(\"¿Cuál es tu peso en kilogramos? \"))\n",
        "altura = float(input(\"¿Cuál es tu altura en metros? \"))\n",
        "\n",
        "imc = peso / (altura ** 2)\n",
        "\n",
        "print(f\"Hola {nombre}, tienes {edad} años.\")\n",
        "print(f\"Tu IMC es: {round(imc, 2)}\")\n",
        "\n",
        "if imc < 18.5:\n",
        "    print(\"Clasificación: Bajo peso\")\n",
        "elif imc < 25:\n",
        "    print(\"Clasificación: Normal\")\n",
        "elif imc < 30:\n",
        "    print(\"Clasificación: Sobrepeso\")\n",
        "else:\n",
        "    print(\"Clasificación: Obesidad\")\n",
        "\n",
        "nombre = input(\"¿Cuál es tu nombre? \")\n",
        "edad = int(input(\"¿Qué edad tienes? \"))\n",
        "peso = float(input(\"¿Cuál es tu peso en kilogramos? \"))\n",
        "altura = float(input(\"¿Cuál es tu altura en metros? \"))\n",
        "\n",
        "imc = peso / (altura ** 2)\n",
        "\n",
        "print(f\"Hola {nombre}, tienes {edad} años.\")\n",
        "print(f\"Tu IMC es: {round(imc, 2)}\")\n",
        "\n",
        "if imc < 18.5:\n",
        "    print(\"Clasificación: Bajo peso\")\n",
        "elif imc < 25:\n",
        "    print(\"Clasificación: Normal\")\n",
        "elif imc < 30:\n",
        "    print(\"Clasificación: Sobrepeso\")\n",
        "else:\n",
        "    print(\"Clasificación: Obesidad\")"
      ]
    }
  ]
}